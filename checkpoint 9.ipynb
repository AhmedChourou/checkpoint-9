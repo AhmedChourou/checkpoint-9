{
 "cells": [
  {
   "cell_type": "code",
   "execution_count": null,
   "id": "a909dc39-5148-447f-96c9-98ab8a642ca2",
   "metadata": {},
   "outputs": [],
   "source": [
    "#question 1\n",
    "def binary_search(a,b,c,d):\n",
    "    if c >= b:\n",
    "        mid = int(b+ (c-b)/2)\n",
    "        print(mid)\n",
    "        if a[mid] == d:\n",
    "            return 'd is found'\n",
    "        elif a[mid]>d:\n",
    "            return binary_search(a, b, mid-1,d)\n",
    "        else:\n",
    "            return binary_search(a, mid+1,c,d)\n",
    "    else:\n",
    "        return 'd is not found'\n",
    "\n",
    "a=[1, 2, 7, 12, 28, 31, 40, 41, 42, 46, 59]\n",
    "d=46\n",
    "b=0 \n",
    "c=len(a)-1\n",
    "binary_search(a,b,c,d)"
   ]
  },
  {
   "cell_type": "code",
   "execution_count": null,
   "id": "7c4a354b-305e-4578-b72b-55f4b77d1e2f",
   "metadata": {},
   "outputs": [],
   "source": [
    "#question 2\n",
    "def power(n,m):\n",
    "    s=n**m\n",
    "    print(s)\n",
    "power(3,4)"
   ]
  },
  {
   "cell_type": "code",
   "execution_count": null,
   "id": "19cc394d-613d-430d-a208-4917586b8f9f",
   "metadata": {},
   "outputs": [],
   "source": [
    "#question 3\n",
    "def bubbleSort(l):\n",
    "    for i in range(len(l)-1,0,-1):\n",
    "        for v in range(i):\n",
    "            if l[v]>l[v+1]:\n",
    "                temp = l[v]\n",
    "                l[v] = l[v+1]\n",
    "                l[v+1] = temp\n",
    "    return l\n",
    "l=[5,7,8,956,8,75,23,48,5,7489,659]\n",
    "bubbleSort(l)"
   ]
  },
  {
   "cell_type": "code",
   "execution_count": null,
   "id": "e606df89-1490-46b4-875f-ffead894496f",
   "metadata": {},
   "outputs": [],
   "source": [
    "#question 4\n",
    "def mergeSort(l):\n",
    "    if len(l)>1:\n",
    "        mid=len(l)//2\n",
    "        left =l[:mid]\n",
    "        right=l[mid:]\n",
    "        mergeSort(left)\n",
    "        mergeSort(right)\n",
    "        a=0\n",
    "        b=0\n",
    "        c=0\n",
    "        while a<len(left) and b<len(right):\n",
    "            if left[a]<right[b]:\n",
    "                l[c]=left[a]\n",
    "                a+=1\n",
    "            else:\n",
    "                l[c]=right[b]\n",
    "                b+=1\n",
    "            c+=1\n",
    "        while a<len(left):\n",
    "            l[c]=left[a]\n",
    "            a+=1\n",
    "            c+=1\n",
    "        while b<len(right):\n",
    "            l[c]=right[b]\n",
    "            b+=1\n",
    "            c+=1\n",
    "l=[48,687,654,88,98,654,2,1,77,8]\n",
    "mergeSort(l)\n",
    "print(l)"
   ]
  },
  {
   "cell_type": "code",
   "execution_count": null,
   "id": "f6851000-9066-45d5-98ab-3928fa67528a",
   "metadata": {},
   "outputs": [],
   "source": [
    "#question 5\n",
    "def partition(array,start,end):\n",
    "    pivot=array[start]\n",
    "    low=start + 1\n",
    "    high=end\n",
    "    while True:\n",
    "        while low<=high and array[high]>=pivot:\n",
    "            high=high - 1\n",
    "        while low<=high and array[low]<=pivot:\n",
    "            low=low + 1\n",
    "        if low<=high:\n",
    "            array[low],array[high]=array[high],array[low]\n",
    "        else:\n",
    "            break\n",
    "    array[start],array[high]=array[high],array[start]\n",
    "    return high\n",
    "def quick_sort(array,start,end):\n",
    "    if start>=end:\n",
    "        return\n",
    "    p=partition(array,start,end)\n",
    "    quick_sort(array,start,p-1)\n",
    "    quick_sort(array,p+1,end)\n",
    "array = [654,489,6543,21,87,54,31,8498,6513,2184,5,6,84]\n",
    "quick_sort(array, 0, len(array) - 1)\n",
    "print(array)"
   ]
  },
  {
   "cell_type": "code",
   "execution_count": null,
   "id": "62424041-5f03-4b03-8ae8-a1e315d2e004",
   "metadata": {},
   "outputs": [],
   "source": []
  }
 ],
 "metadata": {
  "kernelspec": {
   "display_name": "Python 3",
   "language": "python",
   "name": "python3"
  },
  "language_info": {
   "codemirror_mode": {
    "name": "ipython",
    "version": 3
   },
   "file_extension": ".py",
   "mimetype": "text/x-python",
   "name": "python",
   "nbconvert_exporter": "python",
   "pygments_lexer": "ipython3",
   "version": "3.8.8"
  }
 },
 "nbformat": 4,
 "nbformat_minor": 5
}
